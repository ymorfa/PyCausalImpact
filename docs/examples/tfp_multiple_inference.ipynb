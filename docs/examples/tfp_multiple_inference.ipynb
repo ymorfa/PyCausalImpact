{
 "cells": [
  {
   "cell_type": "markdown",
   "id": "57411b6a",
   "metadata": {},
   "source": [
    "# TFP Inference Methods\n",
    "This notebook demonstrates using both variational inference and Hamiltonian Monte Carlo with the TensorFlow Probability adapter."
   ]
  },
  {
   "cell_type": "code",
   "execution_count": null,
   "id": "8003d919",
   "metadata": {},
   "outputs": [],
   "source": [
    "import numpy as np\n",
    "import pandas as pd\n",
    "from pycausalimpact import CausalImpactPy\n",
    "from pycausalimpact.models import TFPStructuralTimeSeries\n",
    "\n",
    "np.random.seed(0)\n",
    "n = 30\n",
    "series = pd.Series(np.sin(np.linspace(0, 3 * np.pi, n)) + np.random.normal(scale=0.1, size=n))\n",
    "data = pd.DataFrame({\"y\": series})\n",
    "pre_period = (0, 19)\n",
    "post_period = (20, 29)"
   ]
  },
  {
   "cell_type": "code",
   "execution_count": null,
   "id": "389b02ba",
   "metadata": {},
   "outputs": [],
   "source": [
    "# Variational inference\n",
    "model_vi = TFPStructuralTimeSeries(num_variational_steps=50, num_results=50)\n",
    "impact_vi = CausalImpactPy(data=data, index=None, y=[\"y\"], pre_period=pre_period, post_period=post_period, model=model_vi)\n",
    "impact_vi.run()"
   ]
  },
  {
   "cell_type": "code",
   "execution_count": null,
   "id": "af427f39",
   "metadata": {},
   "outputs": [],
   "source": [
    "# Hamiltonian Monte Carlo\n",
    "model_hmc = TFPStructuralTimeSeries(inference_method=\"hmc\", num_variational_steps=50, num_results=50, num_warmup_steps=50)\n",
    "impact_hmc = CausalImpactPy(data=data, index=None, y=[\"y\"], pre_period=pre_period, post_period=post_period, model=model_hmc, inference_method=\"hmc\")\n",
    "impact_hmc.run()"
   ]
  }
 ],
 "metadata": {},
 "nbformat": 4,
 "nbformat_minor": 5
}
